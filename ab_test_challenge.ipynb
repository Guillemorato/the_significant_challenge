{
 "cells": [
  {
   "cell_type": "markdown",
   "id": "5809e45c",
   "metadata": {},
   "source": [
    "# A/B Test Challenge\n",
    "\n",
    "\n",
    "\n",
    "---\n",
    "\n",
    "#### What is an A/B Test? \n",
    "\n",
    "It is a decision making support & research methodology that allow you to measure an impact of a change in a product (e.g.: a digital product). For this challenge you will analyse the data resulting of an A/B test performed on a digital product where a new set of sponsored ads are included.\n",
    "\n",
    "\n",
    "#### Measure of success\n",
    "\n",
    "Metrics are needed to measure the success of your product. They are typically split in the following categories: \n",
    "\n",
    "- __Enganged based metrics:__ number of users, number of downloads, number of active users, user retention, etc.\n",
    "\n",
    "- __Revenue and monetization metrics:__ ads and affiliate links, subscription-based, in-app purchases, etc.\n",
    "\n",
    "- __Technical metrics:__ service level indicators (uptime of the app, downtime of the app, latency).\n",
    "\n"
   ]
  },
  {
   "cell_type": "markdown",
   "id": "37beb756",
   "metadata": {},
   "source": [
    "---\n",
    "\n",
    "## Metrics understanding\n",
    "\n",
    "In this part you must analyse the metrics involved in the test. We will focus in the following metrics:\n",
    "\n",
    "- Activity level + Daily active users (DAU).\n",
    "\n",
    "- Click-through rate (CTR)"
   ]
  },
  {
   "cell_type": "markdown",
   "id": "1656e9f4",
   "metadata": {},
   "source": [
    "### Activity level\n",
    "\n",
    "In the following part you must perform every calculation you consider necessary in order to answer the following questions:\n",
    "\n",
    "- How many activity levels you can find in the dataset (Activity level of zero means no activity).\n",
    "\n",
    "- What is the amount of users for each activity level.\n",
    "\n",
    "- How many activity levels do you have per day and how many records per each activity level.\n",
    "\n",
    "At the end of this section you must provide your conclusions about the _activity level_ of the users.\n",
    "\n",
    "__Dataset:__ `activity_pretest.csv`"
   ]
  },
  {
   "cell_type": "code",
   "execution_count": null,
   "id": "560a5c8f",
   "metadata": {},
   "outputs": [],
   "source": [
    "# your-code\n",
    "import pandas as pd\n",
    "import seaborn as sn\n"
   ]
  },
  {
   "cell_type": "code",
   "execution_count": null,
   "id": "a83b59fe",
   "metadata": {},
   "outputs": [],
   "source": [
    "activity_pretest = pd.read_csv('./abtest/activity_pretest.csv')\n",
    "activity_pretest"
   ]
  },
  {
   "cell_type": "code",
   "execution_count": null,
   "id": "08d350bc",
   "metadata": {},
   "outputs": [],
   "source": [
    "activity_pretest['activity_level'].unique()"
   ]
  },
  {
   "cell_type": "code",
   "execution_count": null,
   "id": "30250218",
   "metadata": {},
   "outputs": [],
   "source": [
    "activity_pretest['userid'].nunique()"
   ]
  },
  {
   "cell_type": "code",
   "execution_count": null,
   "id": "316a46c4",
   "metadata": {},
   "outputs": [],
   "source": [
    "user_activity = pd.DataFrame(activity_pretest['activity_level'].value_counts()).reset_index()\n",
    "user_activity.columns = ['activity_level', 'num_users']\n",
    "user_activity['proportions'] = user_activity['num_users']/ user_activity['num_users'].sum()\n",
    "user_activity['proportions'] = user_activity['proportions'].round(2)\n",
    "user_activity"
   ]
  },
  {
   "cell_type": "markdown",
   "id": "2a033f4f",
   "metadata": {},
   "source": [
    "### Daily active users (DAU)\n",
    "\n",
    "![ab_test](./img/user_activity_ab_testing.JPG)\n",
    "\n",
    "\n",
    "The daily active users (DAU) refers to the amount of users that are active per day (activity level of zero means no activity). You must perform the calculation of this metric and provide your insights about it.\n",
    "\n",
    "__Dataset:__ `activity_pretest.csv`"
   ]
  },
  {
   "cell_type": "code",
   "execution_count": null,
   "id": "38006d00",
   "metadata": {},
   "outputs": [],
   "source": [
    "# your-code\n",
    "#DAU \n",
    "act_pretest_ok = activity_pretest[activity_pretest['activity_level'] !=0]\n",
    "dau_pretest = act_pretest_ok.groupby(['dt'])[['userid']].nunique().reset_index()\n",
    "dau_pretest.columns = ['timesamp', 'dau']\n",
    "dau_pretest\n"
   ]
  },
  {
   "cell_type": "markdown",
   "id": "9f2b985c",
   "metadata": {},
   "source": [
    "### Click-through rate (CTR)\n",
    "\n",
    "![ab_test](./img/ad_click_through_rate_ab_testing.JPG)\n",
    "\n",
    "Click-through rate (CTR) refers to the percentage of clicks that the user perform from the total amount ads showed to that user during a certain day. You must perform the analysis of this metric (e.g.: average CTR per day) and provide your insights about it.\n",
    "\n",
    "__Dataset:__ `ctr_pretest.csv`"
   ]
  },
  {
   "cell_type": "code",
   "execution_count": null,
   "id": "7959450f",
   "metadata": {},
   "outputs": [],
   "source": [
    "# your-code\n",
    "ctr = pd.read_csv('./abtest/ctr_pretest.csv')\n",
    "ctr"
   ]
  },
  {
   "cell_type": "code",
   "execution_count": null,
   "id": "ec19e8f8",
   "metadata": {},
   "outputs": [],
   "source": [
    "ctr.groupby('dt')['ctr'].mean()"
   ]
  },
  {
   "cell_type": "code",
   "execution_count": null,
   "id": "a9ece167",
   "metadata": {},
   "outputs": [],
   "source": [
    "#Ctr por dia\n",
    "ctr_day = ctr.groupby(['dt'])[['ctr']].mean().reset_index()\n",
    "ctr_day"
   ]
  },
  {
   "cell_type": "markdown",
   "id": "2303aae2",
   "metadata": {},
   "source": [
    "---\n",
    "\n",
    "## Pretest metrics \n",
    "\n",
    "In this section you will perform the analysis of the metrics using the dataset that includes the result for the test and control groups, but only for the pretest data (i.e.: prior to November 1st, 2021). You must provide insights about the metrics (__Activity level__, __DAU__ and __CTR__) and also perform an hyphotesis test in order to determine whether there is any statistical significant difference between the groups prior to the start of the experiment. You must try different approaches (i.e.: __z-test__ and __t-test__) and compare the results.\n",
    "\n",
    "\n",
    "__Datasets:__ `activity_all.csv`, `ctr_all.csv`"
   ]
  },
  {
   "cell_type": "code",
   "execution_count": null,
   "id": "66d2637f",
   "metadata": {},
   "outputs": [],
   "source": [
    "# your-code\n",
    "activity_all = pd.read_csv('./abtest/activity_all.csv')\n",
    "print(activity_all.head())\n",
    "ctr_all = pd.read_csv('./abtest/ctr_all.csv')\n",
    "print(ctr_all.head())\n"
   ]
  },
  {
   "cell_type": "code",
   "execution_count": null,
   "id": "156fd57a",
   "metadata": {},
   "outputs": [],
   "source": [
    "filtered_activity = activity_all[pd.to_datetime(activity_all['dt']) < pd.to_datetime('2021-11-01')]\n",
    "print(filtered_activity)\n",
    "filtered_ctr = ctr_all[pd.to_datetime(ctr_all['dt']) < pd.to_datetime('2021-11-01')]\n",
    "print(filtered_ctr)"
   ]
  },
  {
   "cell_type": "markdown",
   "id": "f8a51d75",
   "metadata": {},
   "source": [
    "---\n",
    "\n",
    "## Experiment metrics \n",
    "\n",
    "In this section you must perform the same analysis as in the previous section, but using the data generated during the experiment (i.e.: after November 1st, 2021). You must provide insights about the metrics (__Activity level__, __DAU__ and __CTR__) and also perform an hyphotesis test in order to determine whether there is any statistical significant difference between the groups during the experiment. You must try different approaches (i.e.: __z-test__ and __t-test__) and compare the results.\n",
    "\n",
    "\n",
    "__Datasets:__ `activity_all.csv`, `ctr_all.csv`"
   ]
  },
  {
   "cell_type": "code",
   "execution_count": null,
   "id": "99892d68",
   "metadata": {},
   "outputs": [],
   "source": [
    "# your-code\n",
    "# Filtrar los datos a partir del 1 de noviembre de 2021\n",
    "fecha_limite = pd.to_datetime('2021-11-01')\n",
    "filtered_activity = activity_all[pd.to_datetime(activity_all['dt']) >= fecha_limite]\n",
    "filtered_ctr = ctr_all[pd.to_datetime(ctr_all['dt']) >= fecha_limite]\n",
    "\n",
    "print(\"Datos de actividad filtrados durante el experimento:\")\n",
    "print(filtered_activity.head())\n",
    "print(\"\\nDatos de CTR filtrados durante el experimento:\")\n",
    "print(filtered_ctr.head())\n",
    "\n"
   ]
  },
  {
   "cell_type": "markdown",
   "id": "1ea6cd70",
   "metadata": {},
   "source": [
    "---\n",
    "\n",
    "## Conclusions\n",
    "\n",
    "Please provide your conclusions after the analyses and your recommendation whether we may or may not implement the changes in the digital product."
   ]
  },
  {
   "cell_type": "code",
   "execution_count": null,
   "id": "e04b3a04",
   "metadata": {},
   "outputs": [],
   "source": [
    "# your-conclusions\n",
    "la decisión de implementar los cambios en el producto digital debe basarse en los resultados de las pruebas\n",
    "de hipótesis, teniendo en cuenta tanto la significancia estadística como la significancia práctica\n",
    "\n"
   ]
  },
  {
   "cell_type": "markdown",
   "id": "4c014b7f",
   "metadata": {},
   "source": [
    "---"
   ]
  }
 ],
 "metadata": {
  "kernelspec": {
   "display_name": "Python (m2)",
   "language": "python",
   "name": "m2"
  },
  "language_info": {
   "codemirror_mode": {
    "name": "ipython",
    "version": 3
   },
   "file_extension": ".py",
   "mimetype": "text/x-python",
   "name": "python",
   "nbconvert_exporter": "python",
   "pygments_lexer": "ipython3",
   "version": "3.12.0"
  }
 },
 "nbformat": 4,
 "nbformat_minor": 5
}
